{
 "cells": [
  {
   "cell_type": "code",
   "execution_count": null,
   "metadata": {},
   "outputs": [],
   "source": [
    "# default_exp fastai_core"
   ]
  },
  {
   "cell_type": "code",
   "execution_count": null,
   "metadata": {},
   "outputs": [],
   "source": [
    "#export\n",
    "import fastai2.torch_core\n",
    "from fastcore.all import *"
   ]
  },
  {
   "cell_type": "markdown",
   "metadata": {},
   "source": [
    "# Fastai core\n",
    "\n",
    "> Patches for fastai"
   ]
  },
  {
   "cell_type": "markdown",
   "metadata": {},
   "source": [
    "## Patch for find_bs"
   ]
  },
  {
   "cell_type": "code",
   "execution_count": null,
   "metadata": {},
   "outputs": [],
   "source": [
    "#export\n",
    "class Tuple2(Tuple):\n",
    "    def __getitem__(self, i):\n",
    "        res = super().__getitem__(i)\n",
    "        if isinstance(res, tuple): res = type(self)(res)\n",
    "        return res"
   ]
  },
  {
   "cell_type": "code",
   "execution_count": null,
   "metadata": {},
   "outputs": [],
   "source": [
    "#export\n",
    "old_find_bs = fastai2.torch_core.find_bs\n",
    "def find_bs2(b):\n",
    "    # Quick patch because I think it's more dangerous to modify item_find\n",
    "    if isinstance(b, Tuple2): return len(b) \n",
    "    return old_find_bs(b)\n",
    "fastai2.torch_core.find_bs = find_bs2"
   ]
  },
  {
   "cell_type": "markdown",
   "metadata": {},
   "source": [
    "## Export -"
   ]
  },
  {
   "cell_type": "code",
   "execution_count": null,
   "metadata": {},
   "outputs": [
    {
     "name": "stdout",
     "output_type": "stream",
     "text": [
      "Converted 00_fastai_core.ipynb.\n",
      "Converted 03_data.load.ipynb.\n",
      "Converted 04_data.core.ipynb.\n",
      "Converted 06_callback.ipynb.\n",
      "Converted 08_learner.ipynb.\n",
      "Converted index.ipynb.\n"
     ]
    }
   ],
   "source": [
    "from nbdev.export import notebook2script\n",
    "notebook2script()"
   ]
  }
 ],
 "metadata": {
  "kernelspec": {
   "display_name": "Python 3",
   "language": "python",
   "name": "python3"
  }
 },
 "nbformat": 4,
 "nbformat_minor": 2
}
